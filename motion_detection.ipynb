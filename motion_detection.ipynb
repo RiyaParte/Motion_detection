{
 "cells": [
  {
   "cell_type": "code",
   "execution_count": 41,
   "metadata": {},
   "outputs": [],
   "source": [
    "import cv2 , time,pandas\n",
    "from datetime import datetime"
   ]
  },
  {
   "cell_type": "code",
   "execution_count": null,
   "metadata": {},
   "outputs": [],
   "source": [
    "first_frame = None\n",
    "status_list = [None,None]\n",
    "times = []\n",
    "df = pandas.DataFrame(columns=['start','end']) \n",
    "\n",
    "video = cv2.VideoCapture(0)\n",
    "\n",
    "while video:\n",
    "    check , res= video.read()\n",
    "    if check==False:\n",
    "        break\n",
    "    #res = cv2.resize(frame, (frame.shape[0]//2,frame.shape[1]//2), interpolation = cv2.INTER_LINEAR)\n",
    "    status = 0\n",
    "    gray = cv2.cvtColor(res,cv2.COLOR_BGR2GRAY)\n",
    "    gray = cv2.GaussianBlur(gray,(21,21),0)\n",
    "    \n",
    "    if first_frame is None:\n",
    "        first_frame = gray \n",
    "        continue\n",
    "    \n",
    "    delta_frame = cv2.absdiff(first_frame , gray)\n",
    "    threshold_delta = cv2.threshold(delta_frame,30,255,cv2.THRESH_BINARY)[1]\n",
    "    threshold_delta = cv2.dilate(threshold_delta,None,iterations=0)\n",
    "    cnts,_ = cv2.findContours(threshold_delta.copy(),cv2.RETR_EXTERNAL,cv2.CHAIN_APPROX_SIMPLE)\n",
    "    \n",
    "    for contour  in cnts :\n",
    "        if cv2.contourArea(contour)<1000:\n",
    "            continue\n",
    "        status = 1\n",
    "        (x,y,w,h) = cv2.boundingRect(contour)\n",
    "        cv2.rectangle(frame,(x,y),(x+w,y+h),(0,255,0),3)\n",
    "    status_list.append(status)\n",
    "    status_list = status_list[-2:]\n",
    "    \n",
    "    if status_list[-1]==1 and status_list[-2]==0:\n",
    "        times.append(datetime.now())\n",
    "    if status_list[-1]==0 and status_list[-2]==1:\n",
    "        times.append(datetime.now())\n",
    "        \n",
    "    cv2.imshow('frame',res)\n",
    "    cv2.imshow('gray_scale',gray)\n",
    "    cv2.imshow('delta',delta_frame)\n",
    "    cv2.imshow('threshold',threshold_delta)\n",
    "    \n",
    "    #key = cv2.waitKey(key)\n",
    "    if cv2.waitKey(1) & 0xFF == ord('q'):\n",
    "        break\n",
    "        \n",
    "print(status_list)\n",
    "print(times)\n",
    "print(len(times))  \n",
    "\n",
    "for i in range(0,len(times)-1,2):\n",
    "        df = df.append({\"start\":times[i],\"end\":times[i+1]},ignore_index=True)\n",
    "df.to_csv(\"Times.csv\")\n",
    "\n",
    "\n",
    "video.release()\n",
    "cv2.destroyAllWindows()"
   ]
  },
  {
   "cell_type": "code",
   "execution_count": 39,
   "metadata": {},
   "outputs": [],
   "source": [
    "from bokeh.plotting import figure,show,output_file\n",
    "from bokeh.models import HoverTool ,ColumnDataSource"
   ]
  },
  {
   "cell_type": "code",
   "execution_count": 40,
   "metadata": {},
   "outputs": [],
   "source": [
    "if len(times)!=1:\n",
    "    df[\"start_string\"] = df[\"start\"].dt.strftime(\"%Y-%m-%d %H:%M:%S\")\n",
    "    df[\"end_string\"] = df[\"end\"].dt.strftime(\"%Y-%m-%d %H:%M:%S\")\n",
    "\n",
    "    cds = ColumnDataSource(df)\n",
    "\n",
    "    p=figure(x_axis_type='datetime',height=100, width=500,title= \"Motion Graph\")\n",
    "    p.yaxis.minor_tick_line_color = None\n",
    "    #p.ygrid[0].ticker.desired_num_ticks = 1\n",
    "    p.yaxis.ticker.desired_num_ticks = 1\n",
    "\n",
    "    hover = HoverTool(tooltips=[(\"start\",\"@start_string\"),(\"end\",\"@end_string\")])\n",
    "    p.add_tools(hover)\n",
    "\n",
    "    q = p.quad(left=\"start\",right=\"end\",bottom=0,top=1,color=\"red\",source=cds)\n",
    "\n",
    "    output_file(\"Graph1.html\")\n",
    "    show(p)"
   ]
  },
  {
   "cell_type": "code",
   "execution_count": null,
   "metadata": {},
   "outputs": [],
   "source": []
  }
 ],
 "metadata": {
  "kernelspec": {
   "display_name": "Python 3",
   "language": "python",
   "name": "python3"
  },
  "language_info": {
   "codemirror_mode": {
    "name": "ipython",
    "version": 3
   },
   "file_extension": ".py",
   "mimetype": "text/x-python",
   "name": "python",
   "nbconvert_exporter": "python",
   "pygments_lexer": "ipython3",
   "version": "3.8.3"
  }
 },
 "nbformat": 4,
 "nbformat_minor": 4
}
